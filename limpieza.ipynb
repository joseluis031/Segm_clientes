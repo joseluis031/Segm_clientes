{
 "cells": [
  {
   "cell_type": "code",
   "execution_count": 24,
   "metadata": {},
   "outputs": [],
   "source": [
    "import pandas as pd\n",
    "\n",
    "# Cargar dataset\n",
    "df = pd.read_csv('Client_segment_MODIFICADO.csv', delimiter=';', encoding='latin1')\n"
   ]
  },
  {
   "cell_type": "code",
   "execution_count": 25,
   "metadata": {},
   "outputs": [
    {
     "data": {
      "text/html": [
       "<div>\n",
       "<style scoped>\n",
       "    .dataframe tbody tr th:only-of-type {\n",
       "        vertical-align: middle;\n",
       "    }\n",
       "\n",
       "    .dataframe tbody tr th {\n",
       "        vertical-align: top;\n",
       "    }\n",
       "\n",
       "    .dataframe thead th {\n",
       "        text-align: right;\n",
       "    }\n",
       "</style>\n",
       "<table border=\"1\" class=\"dataframe\">\n",
       "  <thead>\n",
       "    <tr style=\"text-align: right;\">\n",
       "      <th></th>\n",
       "      <th>ID</th>\n",
       "      <th>Genero</th>\n",
       "      <th>Casado</th>\n",
       "      <th>Edad</th>\n",
       "      <th>Graduado</th>\n",
       "      <th>Profesion</th>\n",
       "      <th>Experiencia laboral</th>\n",
       "      <th>Gastoscore</th>\n",
       "      <th>Family_Size</th>\n",
       "      <th>anno_nacimiento</th>\n",
       "      <th>Generacion</th>\n",
       "      <th>Ingresos anuales brutos</th>\n",
       "      <th>Provincia</th>\n",
       "      <th>Digital_encuesta</th>\n",
       "      <th>Gasto_medio_mensual_cuota</th>\n",
       "      <th>Abandono</th>\n",
       "      <th>Dias_cliente</th>\n",
       "      <th>Campanna_anno</th>\n",
       "    </tr>\n",
       "  </thead>\n",
       "  <tbody>\n",
       "    <tr>\n",
       "      <th>0</th>\n",
       "      <td>CLI2</td>\n",
       "      <td>M</td>\n",
       "      <td>No</td>\n",
       "      <td>24</td>\n",
       "      <td>No</td>\n",
       "      <td>Funcionario</td>\n",
       "      <td>&lt;10annos</td>\n",
       "      <td>Bajo</td>\n",
       "      <td>4</td>\n",
       "      <td>2000</td>\n",
       "      <td>Generacion Z</td>\n",
       "      <td>13945</td>\n",
       "      <td>Malaga</td>\n",
       "      <td>1,029</td>\n",
       "      <td>30</td>\n",
       "      <td>0</td>\n",
       "      <td>278</td>\n",
       "      <td>NaN</td>\n",
       "    </tr>\n",
       "    <tr>\n",
       "      <th>1</th>\n",
       "      <td>CLI3</td>\n",
       "      <td>F</td>\n",
       "      <td>Si</td>\n",
       "      <td>42</td>\n",
       "      <td>Si</td>\n",
       "      <td>Ingeniero</td>\n",
       "      <td>+20annos</td>\n",
       "      <td>Medio</td>\n",
       "      <td>3</td>\n",
       "      <td>1982</td>\n",
       "      <td>Millennials</td>\n",
       "      <td>118107</td>\n",
       "      <td>Salamanca</td>\n",
       "      <td>1,79</td>\n",
       "      <td>30</td>\n",
       "      <td>0</td>\n",
       "      <td>455</td>\n",
       "      <td>3</td>\n",
       "    </tr>\n",
       "    <tr>\n",
       "      <th>2</th>\n",
       "      <td>CLI4</td>\n",
       "      <td>F</td>\n",
       "      <td>Si</td>\n",
       "      <td>74</td>\n",
       "      <td>Si</td>\n",
       "      <td>Ingeniero</td>\n",
       "      <td>+20annos</td>\n",
       "      <td>Bajo</td>\n",
       "      <td>1</td>\n",
       "      <td>1950</td>\n",
       "      <td>Generacion X</td>\n",
       "      <td>53533</td>\n",
       "      <td>Burgos</td>\n",
       "      <td>1,326</td>\n",
       "      <td>50</td>\n",
       "      <td>0</td>\n",
       "      <td>380</td>\n",
       "      <td>1</td>\n",
       "    </tr>\n",
       "    <tr>\n",
       "      <th>3</th>\n",
       "      <td>CLI5</td>\n",
       "      <td>M</td>\n",
       "      <td>Si</td>\n",
       "      <td>74</td>\n",
       "      <td>Si</td>\n",
       "      <td>Servicios</td>\n",
       "      <td>+20annos</td>\n",
       "      <td>Alto</td>\n",
       "      <td>2</td>\n",
       "      <td>1950</td>\n",
       "      <td>Generacion X</td>\n",
       "      <td>82273</td>\n",
       "      <td>Gerona</td>\n",
       "      <td>0,779</td>\n",
       "      <td>50</td>\n",
       "      <td>1</td>\n",
       "      <td>387</td>\n",
       "      <td>3</td>\n",
       "    </tr>\n",
       "    <tr>\n",
       "      <th>4</th>\n",
       "      <td>CLI6</td>\n",
       "      <td>F</td>\n",
       "      <td>Si</td>\n",
       "      <td>44</td>\n",
       "      <td>Si</td>\n",
       "      <td>Otros</td>\n",
       "      <td>+20annos</td>\n",
       "      <td>Alto</td>\n",
       "      <td>6</td>\n",
       "      <td>1980</td>\n",
       "      <td>Generacion X</td>\n",
       "      <td>90776</td>\n",
       "      <td>iï¿½vila</td>\n",
       "      <td>1,767</td>\n",
       "      <td>30</td>\n",
       "      <td>1</td>\n",
       "      <td>299</td>\n",
       "      <td>NaN</td>\n",
       "    </tr>\n",
       "  </tbody>\n",
       "</table>\n",
       "</div>"
      ],
      "text/plain": [
       "     ID Genero Casado  Edad Graduado    Profesion Experiencia laboral  \\\n",
       "0  CLI2      M     No    24       No  Funcionario            <10annos   \n",
       "1  CLI3      F     Si    42       Si    Ingeniero            +20annos   \n",
       "2  CLI4      F     Si    74       Si    Ingeniero            +20annos   \n",
       "3  CLI5      M     Si    74       Si    Servicios            +20annos   \n",
       "4  CLI6      F     Si    44       Si        Otros            +20annos   \n",
       "\n",
       "  Gastoscore  Family_Size  anno_nacimiento    Generacion  \\\n",
       "0       Bajo            4             2000  Generacion Z   \n",
       "1      Medio            3             1982   Millennials   \n",
       "2       Bajo            1             1950  Generacion X   \n",
       "3       Alto            2             1950  Generacion X   \n",
       "4       Alto            6             1980  Generacion X   \n",
       "\n",
       "   Ingresos anuales brutos  Provincia Digital_encuesta  \\\n",
       "0                    13945     Malaga            1,029   \n",
       "1                   118107  Salamanca             1,79   \n",
       "2                    53533     Burgos            1,326   \n",
       "3                    82273     Gerona            0,779   \n",
       "4                    90776   iï¿½vila            1,767   \n",
       "\n",
       "   Gasto_medio_mensual_cuota  Abandono  Dias_cliente Campanna_anno  \n",
       "0                         30         0           278           NaN  \n",
       "1                         30         0           455             3  \n",
       "2                         50         0           380             1  \n",
       "3                         50         1           387             3  \n",
       "4                         30         1           299           NaN  "
      ]
     },
     "execution_count": 25,
     "metadata": {},
     "output_type": "execute_result"
    }
   ],
   "source": [
    "df.head()"
   ]
  },
  {
   "cell_type": "code",
   "execution_count": 26,
   "metadata": {},
   "outputs": [
    {
     "data": {
      "text/plain": [
       "array(['Malaga', 'Salamanca', 'Burgos', 'Gerona', 'iï¿½vila', 'Orense',\n",
       "       'Almeriï¿½a', 'LLeida', 'Segovia', 'Castellon', 'Ciudad Real',\n",
       "       'Zamora', 'Madrid', 'Soria', 'Zaragoza', 'Jaen', 'Leon', 'Ceuta',\n",
       "       'Toledo', 'Las Palmas', 'Albacete', 'Vizcaya', 'Huelva',\n",
       "       'Guadalajara', 'Granada', 'La Rioja', 'Alicante', 'iï¿½lava',\n",
       "       'Badajoz', 'Sevilla', 'Teruel', 'Caceres', 'La Coruiï¿½a',\n",
       "       'Pontevedra', 'Cadiz', 'Barcelona', 'Cuenca', 'Palencia',\n",
       "       'Baleares', 'Santa Cruz de Tenerife', 'Valencia', 'Huesca',\n",
       "       'Melilla', 'Guipiï¿½zcoa', 'Tarragona', 'Navarra', 'Valladolid',\n",
       "       'Lugo', 'Cordoba', 'Murcia'], dtype=object)"
      ]
     },
     "execution_count": 26,
     "metadata": {},
     "output_type": "execute_result"
    }
   ],
   "source": [
    "# Obtener valores únicos de la columna 'Provincia'\n",
    "valores_unicos = df['Provincia'].unique()\n",
    "\n",
    "# Mostrar los valores únicos\n",
    "valores_unicos\n"
   ]
  },
  {
   "cell_type": "code",
   "execution_count": 27,
   "metadata": {},
   "outputs": [
    {
     "data": {
      "text/plain": [
       "array(['Malaga', 'Salamanca', 'Burgos', 'Gerona', 'Avila', 'Orense',\n",
       "       'Almeria', 'Lleida', 'Segovia', 'Castellon', 'Ciudad Real',\n",
       "       'Zamora', 'Madrid', 'Soria', 'Zaragoza', 'Jaen', 'Leon', 'Ceuta',\n",
       "       'Toledo', 'Las Palmas', 'Albacete', 'Vizcaya', 'Huelva',\n",
       "       'Guadalajara', 'Granada', 'La Rioja', 'Alicante', 'Alava',\n",
       "       'Badajoz', 'Sevilla', 'Teruel', 'Caceres', 'La Coruna',\n",
       "       'Pontevedra', 'Cadiz', 'Barcelona', 'Cuenca', 'Palencia',\n",
       "       'Baleares', 'Santa Cruz de Tenerife', 'Valencia', 'Huesca',\n",
       "       'Melilla', 'Guipuzcoa', 'Tarragona', 'Navarra', 'Valladolid',\n",
       "       'Lugo', 'Cordoba', 'Murcia'], dtype=object)"
      ]
     },
     "execution_count": 27,
     "metadata": {},
     "output_type": "execute_result"
    }
   ],
   "source": [
    "# Diccionario de reemplazo: valores mal escritos -> valores corregidos (sin tildes)\n",
    "correcciones = {\n",
    "    'iï¿½vila': 'Avila',\n",
    "    'Almeriï¿½a': 'Almeria',\n",
    "    'LLeida': 'Lleida',\n",
    "    'iï¿½lava': 'Alava',\n",
    "    'La Coruiï¿½a': 'La Coruna',\n",
    "    'Guipiï¿½zcoa': 'Guipuzcoa'\n",
    "}\n",
    "\n",
    "# Reemplazar valores en la columna 'Provincia'\n",
    "df['Provincia'] = df['Provincia'].replace(correcciones)\n",
    "\n",
    "# Verificar valores únicos después de la corrección\n",
    "valores_unicos_corregidos = df['Provincia'].unique()\n",
    "valores_unicos_corregidos\n"
   ]
  },
  {
   "cell_type": "code",
   "execution_count": 28,
   "metadata": {},
   "outputs": [
    {
     "name": "stdout",
     "output_type": "stream",
     "text": [
      "Valores nulos por columna:\n",
      "ID                              0\n",
      "Genero                          0\n",
      "Casado                        190\n",
      "Edad                            0\n",
      "Graduado                      103\n",
      "Profesion                       0\n",
      "Experiencia laboral             0\n",
      "Gastoscore                      0\n",
      "Family_Size                     0\n",
      "anno_nacimiento                 0\n",
      "Generacion                      0\n",
      "Ingresos anuales brutos         0\n",
      "Provincia                       0\n",
      "Digital_encuesta                0\n",
      "Gasto_medio_mensual_cuota       0\n",
      "Abandono                        0\n",
      "Dias_cliente                    0\n",
      "Campanna_anno                5707\n",
      "dtype: int64\n"
     ]
    }
   ],
   "source": [
    "# Verificar si hay filas con valores nulos\n",
    "null_data = df.isnull().sum()\n",
    "\n",
    "# Mostrar el resultado de cuántos valores nulos hay en cada columna\n",
    "print(\"Valores nulos por columna:\")\n",
    "print(null_data)"
   ]
  },
  {
   "cell_type": "code",
   "execution_count": 29,
   "metadata": {},
   "outputs": [
    {
     "name": "stdout",
     "output_type": "stream",
     "text": [
      "Valores únicos en la columna 'Casado': 2\n",
      "\n",
      "Frecuencia de cada valor:\n",
      "Si    6217\n",
      "No    4399\n",
      "Name: Casado, dtype: int64\n"
     ]
    }
   ],
   "source": [
    "# Especificar la columna que deseas analizar\n",
    "columna = 'Casado'  # Reemplaza con el nombre de la columna\n",
    "\n",
    "if columna in df.columns:\n",
    "    # Contar valores únicos y sus frecuencias\n",
    "    conteo_valores = df[columna].value_counts()\n",
    "    \n",
    "    # Mostrar resultados\n",
    "    print(f\"Valores únicos en la columna '{columna}': {conteo_valores.shape[0]}\")\n",
    "    print(\"\\nFrecuencia de cada valor:\")\n",
    "    print(conteo_valores)\n",
    "else:\n",
    "    print(f\"La columna '{columna}' no existe en el archivo.\")"
   ]
  },
  {
   "cell_type": "code",
   "execution_count": 30,
   "metadata": {},
   "outputs": [
    {
     "name": "stdout",
     "output_type": "stream",
     "text": [
      "Valores únicos en la columna 'Graduado': 2\n",
      "\n",
      "Frecuencia de cada valor:\n",
      "Si    6637\n",
      "No    4066\n",
      "Name: Graduado, dtype: int64\n"
     ]
    }
   ],
   "source": [
    "# Especificar la columna que deseas analizar\n",
    "columna = 'Graduado'  # Reemplaza con el nombre de la columna\n",
    "\n",
    "if columna in df.columns:\n",
    "    # Contar valores únicos y sus frecuencias\n",
    "    conteo_valores = df[columna].value_counts()\n",
    "    \n",
    "    # Mostrar resultados\n",
    "    print(f\"Valores únicos en la columna '{columna}': {conteo_valores.shape[0]}\")\n",
    "    print(\"\\nFrecuencia de cada valor:\")\n",
    "    print(conteo_valores)\n",
    "else:\n",
    "    print(f\"La columna '{columna}' no existe en el archivo.\")"
   ]
  },
  {
   "cell_type": "code",
   "execution_count": 31,
   "metadata": {},
   "outputs": [],
   "source": [
    "import numpy as np\n",
    "\n",
    "# Calcular las proporciones de cada categoría\n",
    "proporciones = df['Casado'].value_counts(normalize=True)\n",
    "\n",
    "# Generar valores aleatorios basados en la distribución\n",
    "valores_aleatorios = np.random.choice(\n",
    "    proporciones.index,  # Valores únicos\n",
    "    size=df['Casado'].isnull().sum(),  # Cantidad de nulos\n",
    "    p=proporciones.values  # Probabilidades\n",
    ")\n",
    "\n",
    "# Asignar los valores generados a las filas nulas\n",
    "df.loc[df['Casado'].isnull(), 'Casado'] = valores_aleatorios\n"
   ]
  },
  {
   "cell_type": "code",
   "execution_count": 32,
   "metadata": {},
   "outputs": [],
   "source": [
    "import numpy as np\n",
    "\n",
    "# Calcular las proporciones de cada categoría\n",
    "proporciones = df['Graduado'].value_counts(normalize=True)\n",
    "\n",
    "# Generar valores aleatorios basados en la distribución\n",
    "valores_aleatorios = np.random.choice(\n",
    "    proporciones.index,  # Valores únicos\n",
    "    size=df['Graduado'].isnull().sum(),  # Cantidad de nulos\n",
    "    p=proporciones.values  # Probabilidades\n",
    ")\n",
    "\n",
    "# Asignar los valores generados a las filas nulas\n",
    "df.loc[df['Graduado'].isnull(), 'Graduado'] = valores_aleatorios\n"
   ]
  },
  {
   "cell_type": "code",
   "execution_count": 33,
   "metadata": {},
   "outputs": [
    {
     "name": "stdout",
     "output_type": "stream",
     "text": [
      "Valores nulos por columna:\n",
      "ID                              0\n",
      "Genero                          0\n",
      "Casado                          0\n",
      "Edad                            0\n",
      "Graduado                        0\n",
      "Profesion                       0\n",
      "Experiencia laboral             0\n",
      "Gastoscore                      0\n",
      "Family_Size                     0\n",
      "anno_nacimiento                 0\n",
      "Generacion                      0\n",
      "Ingresos anuales brutos         0\n",
      "Provincia                       0\n",
      "Digital_encuesta                0\n",
      "Gasto_medio_mensual_cuota       0\n",
      "Abandono                        0\n",
      "Dias_cliente                    0\n",
      "Campanna_anno                5707\n",
      "dtype: int64\n"
     ]
    }
   ],
   "source": [
    "# Verificar si hay filas con valores nulos\n",
    "null_data = df.isnull().sum()\n",
    "\n",
    "# Mostrar el resultado de cuántos valores nulos hay en cada columna\n",
    "print(\"Valores nulos por columna:\")\n",
    "print(null_data)"
   ]
  },
  {
   "cell_type": "code",
   "execution_count": 34,
   "metadata": {},
   "outputs": [
    {
     "name": "stdout",
     "output_type": "stream",
     "text": [
      "Valores únicos en la columna 'Casado': 2\n",
      "\n",
      "Frecuencia de cada valor:\n",
      "Si    6330\n",
      "No    4476\n",
      "Name: Casado, dtype: int64\n"
     ]
    }
   ],
   "source": [
    "# Especificar la columna que deseas analizar\n",
    "columna = 'Casado'  # Reemplaza con el nombre de la columna\n",
    "\n",
    "if columna in df.columns:\n",
    "    # Contar valores únicos y sus frecuencias\n",
    "    conteo_valores = df[columna].value_counts()\n",
    "    \n",
    "    # Mostrar resultados\n",
    "    print(f\"Valores únicos en la columna '{columna}': {conteo_valores.shape[0]}\")\n",
    "    print(\"\\nFrecuencia de cada valor:\")\n",
    "    print(conteo_valores)\n",
    "else:\n",
    "    print(f\"La columna '{columna}' no existe en el archivo.\")"
   ]
  },
  {
   "cell_type": "code",
   "execution_count": 35,
   "metadata": {},
   "outputs": [
    {
     "name": "stdout",
     "output_type": "stream",
     "text": [
      "Valores únicos en la columna 'Graduado': 2\n",
      "\n",
      "Frecuencia de cada valor:\n",
      "Si    6705\n",
      "No    4101\n",
      "Name: Graduado, dtype: int64\n"
     ]
    }
   ],
   "source": [
    "# Especificar la columna que deseas analizar\n",
    "columna = 'Graduado'  # Reemplaza con el nombre de la columna\n",
    "\n",
    "if columna in df.columns:\n",
    "    # Contar valores únicos y sus frecuencias\n",
    "    conteo_valores = df[columna].value_counts()\n",
    "    \n",
    "    # Mostrar resultados\n",
    "    print(f\"Valores únicos en la columna '{columna}': {conteo_valores.shape[0]}\")\n",
    "    print(\"\\nFrecuencia de cada valor:\")\n",
    "    print(conteo_valores)\n",
    "else:\n",
    "    print(f\"La columna '{columna}' no existe en el archivo.\")"
   ]
  },
  {
   "cell_type": "markdown",
   "metadata": {},
   "source": [
    "Ya no tenemos valores nulos, hemos completado proporcionalmente"
   ]
  },
  {
   "cell_type": "code",
   "execution_count": 36,
   "metadata": {},
   "outputs": [
    {
     "name": "stdout",
     "output_type": "stream",
     "text": [
      "Valores únicos en la columna 'ID':\n",
      "['CLI2' 'CLI3' 'CLI4' ... 'CLI10805' 'CLI10806' 'CLI10807']\n",
      "\n",
      "\n",
      "Valores únicos en la columna 'Genero':\n",
      "['M' 'F']\n",
      "\n",
      "\n",
      "Valores únicos en la columna 'Casado':\n",
      "['No' 'Si']\n",
      "\n",
      "\n",
      "Valores únicos en la columna 'Graduado':\n",
      "['No' 'Si']\n",
      "\n",
      "\n",
      "Valores únicos en la columna 'Profesion':\n",
      "['Funcionario' 'Ingeniero' 'Servicios' 'Otros' 'Artista' 'Ejecutivo'\n",
      " 'Medico' 'Construccion' 'Negocios/empresa']\n",
      "\n",
      "\n",
      "Valores únicos en la columna 'Experiencia laboral':\n",
      "['<10annos' '+20annos' '10-20annos']\n",
      "\n",
      "\n",
      "Valores únicos en la columna 'Gastoscore':\n",
      "['Bajo' 'Medio' 'Alto']\n",
      "\n",
      "\n",
      "Valores únicos en la columna 'Generacion':\n",
      "['Generacion Z' 'Millennials' 'Generacion X' 'Generacion Silenciosa']\n",
      "\n",
      "\n",
      "Valores únicos en la columna 'Provincia':\n",
      "['Malaga' 'Salamanca' 'Burgos' 'Gerona' 'Avila' 'Orense' 'Almeria'\n",
      " 'Lleida' 'Segovia' 'Castellon' 'Ciudad Real' 'Zamora' 'Madrid' 'Soria'\n",
      " 'Zaragoza' 'Jaen' 'Leon' 'Ceuta' 'Toledo' 'Las Palmas' 'Albacete'\n",
      " 'Vizcaya' 'Huelva' 'Guadalajara' 'Granada' 'La Rioja' 'Alicante' 'Alava'\n",
      " 'Badajoz' 'Sevilla' 'Teruel' 'Caceres' 'La Coruna' 'Pontevedra' 'Cadiz'\n",
      " 'Barcelona' 'Cuenca' 'Palencia' 'Baleares' 'Santa Cruz de Tenerife'\n",
      " 'Valencia' 'Huesca' 'Melilla' 'Guipuzcoa' 'Tarragona' 'Navarra'\n",
      " 'Valladolid' 'Lugo' 'Cordoba' 'Murcia']\n",
      "\n",
      "\n",
      "Valores únicos en la columna 'Digital_encuesta':\n",
      "['1,029' '1,79' '1,326' '0,779' '1,767' '1,15' '0,916' '1,56' '1,385'\n",
      " '2,72' '2,202' '1,374' '1,228' '0,801' '1,606' '0,72' '0,759' '0,622'\n",
      " '2,651' '1,077' '0,876' '1,737' '1,974' '1,008' '1,146' '1,17' '1,512'\n",
      " '2,823' '1,091' '1,261' '1,537' '1,054' '0,87' '1,6' '0,798' '2,996'\n",
      " '0,896' '1,629' '1,698' '2,306' '1,561' '0,974' '1,514' '2,237' '0,74'\n",
      " '1,58' '0,583' '0,818' '1,404' '1,502' '2,168' '0,939' '1,583' '1,033'\n",
      " '0,824' '1,813' '0,661' '0,837' '2,02' '0,732' '1,721' '1,248' '1,754'\n",
      " '1,905' '0,857' '2,066' '1,882' '2,043' '1,424' '0,603' '1,836' '1,189'\n",
      " '1,052' '1,169' '1,482' '1,463' '0,962' '1,685' '2,478' '1,859' '0,7'\n",
      " '0,955' '1,445' '0,847' '1,238' '1,443' '0,681' '1,031' '14,085' '0,642'\n",
      " '0,935' '1,652' '0,915' '0,564' '1,744' '1,951' '1,376' '2,961' '1,306'\n",
      " '1,717' '1,995' '1,491' '1,346' '1,353' '3,099' '0,755' '0,778' '1,678'\n",
      " '1,1' '1,675' '1,307' '2,754' '1,287' '15,215' '1,788' '2,409' '1,719'\n",
      " '1,639' '1,123' '1,468' '1,236' '1,305' '1,697' '2,927' '2,133' '0,709'\n",
      " '2,03' '13,395' '0,893' '1,619' '1,33' '1,098' '0,994' '1,399' '12,705'\n",
      " '2,685' '1,284' '11,325' '0,686' '1,65' '1,997' '1,541' '1,857' '1,422'\n",
      " '1,547' '0,985' '1,013' '1,756' '2,444' '2,271' '3,03' '1,658' '0,995'\n",
      " '1,267' '0,663' '1,215' '2,582' '11,305' '1,365' '3,065' '1,111' '12,015'\n",
      " '1,581' '1,072' '1,928' '2,34' '1,209' '2,513' '2,064' '2,616' '2,375'\n",
      " '2,789' '1,192' '2,099' '2,892' '1,892' '1,167' '1,823' '1,616' '2,858'\n",
      " '14,775' '1,926' '2,547' '1,961' '10,635']\n",
      "\n",
      "\n",
      "Valores únicos en la columna 'Campanna_anno':\n",
      "[nan '3' '1' '0,5' '4']\n",
      "\n",
      "\n"
     ]
    }
   ],
   "source": [
    "# Filtrar solo las columnas categóricas (tipo object)\n",
    "categorical_columns = df.select_dtypes(include=['object']).columns\n",
    "\n",
    "# Mostrar los valores únicos de cada columna categórica\n",
    "for column in categorical_columns:\n",
    "    print(f\"Valores únicos en la columna '{column}':\")\n",
    "    print(df[column].unique())\n",
    "    print(\"\\n\")"
   ]
  },
  {
   "cell_type": "code",
   "execution_count": 18,
   "metadata": {},
   "outputs": [],
   "source": [
    "df.to_csv(\"Client_segment_Limpio.csv\", index=False, sep=\";\")\n"
   ]
  },
  {
   "cell_type": "code",
   "execution_count": 38,
   "metadata": {},
   "outputs": [],
   "source": [
    "df.to_csv(\"Client_segment_Limpio2.csv\", sep=\";\")\n"
   ]
  },
  {
   "cell_type": "code",
   "execution_count": 19,
   "metadata": {},
   "outputs": [
    {
     "name": "stdout",
     "output_type": "stream",
     "text": [
      "Columnas numéricas: Index(['Edad', 'Family_Size', 'anno_nacimiento', 'Ingresos anuales brutos',\n",
      "       'Gasto_medio_mensual_cuota', 'Abandono', 'Dias_cliente'],\n",
      "      dtype='object')\n"
     ]
    }
   ],
   "source": [
    "columnas_numericas = df.select_dtypes(include=['float64', 'int64']).columns\n",
    "print(\"Columnas numéricas:\", columnas_numericas)\n"
   ]
  },
  {
   "cell_type": "code",
   "execution_count": null,
   "metadata": {},
   "outputs": [
    {
     "name": "stdout",
     "output_type": "stream",
     "text": [
      "Archivo normalizado guardado como: Client_segment_normalizado.csv\n"
     ]
    }
   ],
   "source": [
    "from sklearn.preprocessing import MinMaxScaler\n",
    "\n",
    "# Normalizar solo las columnas numéricas\n",
    "scaler = MinMaxScaler()\n",
    "df[columnas_numericas] = scaler.fit_transform(df[columnas_numericas])\n",
    "\n",
    "# Guardar los cambios en un nuevo archivo\n",
    "df.to_csv(\"Client_segment_normalizado.csv\", index=False, sep=\";\")\n",
    "print(\"Archivo normalizado guardado como: Client_segment_normalizado.csv\")\n"
   ]
  },
  {
   "cell_type": "code",
   "execution_count": 22,
   "metadata": {},
   "outputs": [],
   "source": [
    "from sklearn.preprocessing import StandardScaler\n",
    "\n",
    "\n",
    "# Estandarizar las variables numéricas\n",
    "scaler = StandardScaler()\n",
    "df_estandarizado = scaler.fit_transform(df[columnas_numericas])\n",
    "df.to_csv(\"Client_segment_estand.csv\", index=False, sep=\";\")\n"
   ]
  }
 ],
 "metadata": {
  "kernelspec": {
   "display_name": "Python 3",
   "language": "python",
   "name": "python3"
  },
  "language_info": {
   "codemirror_mode": {
    "name": "ipython",
    "version": 3
   },
   "file_extension": ".py",
   "mimetype": "text/x-python",
   "name": "python",
   "nbconvert_exporter": "python",
   "pygments_lexer": "ipython3",
   "version": "3.10.0"
  }
 },
 "nbformat": 4,
 "nbformat_minor": 2
}
